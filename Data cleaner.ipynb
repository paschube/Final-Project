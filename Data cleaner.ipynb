{
 "cells": [
  {
   "cell_type": "code",
   "execution_count": 19,
   "metadata": {},
   "outputs": [],
   "source": [
    "import pandas as pd"
   ]
  },
  {
   "cell_type": "code",
   "execution_count": 20,
   "metadata": {},
   "outputs": [],
   "source": [
    "czk_df = pd.read_parquet('data/FRED_Req.parquet')\n",
    "covid_df = pd.read_parquet('data/OWID_Req.parquet')"
   ]
  },
  {
   "cell_type": "code",
   "execution_count": 21,
   "metadata": {},
   "outputs": [],
   "source": [
    "#make df from FRED data, convert index to datetime\n",
    "czk_df.index = pd.to_datetime(czk_df.index)\n",
    "czk_df = czk_df.loc['2020-03-01':,:] #this does work but with warning\n",
    "czk_df.columns = ['CZK/USD']\n",
    "czk_df['CZK/USD'] = czk_df['CZK/USD'].astype(float)\n",
    "#df"
   ]
  },
  {
   "cell_type": "code",
   "execution_count": 22,
   "metadata": {},
   "outputs": [],
   "source": [
    "#cut data on Czech Republic, drop empty columns and rows, convert index to datetime\n",
    "covid_df = covid_df.where(covid_df['location'] == 'Czechia').dropna(how='all')\n",
    "covid_df = covid_df.dropna(axis=1, how='all')\n",
    "covid_df.index = pd.to_datetime(covid_df.index)\n",
    "#covid_df"
   ]
  },
  {
   "cell_type": "code",
   "execution_count": 23,
   "metadata": {},
   "outputs": [],
   "source": [
    "#problem: FRED data monthly, OWID data daily -> need to convert OWID data\n",
    "#add up cases of a month, save in a list\n",
    "list_monthly_cases = []\n",
    "list_monthly_cases_index = []\n",
    "monthly_cases = covid_df.iloc[0]['new_cases']\n",
    "for i in range(len(covid_df)-1):\n",
    "    if covid_df.index[i].month == covid_df.index[i+1].month:\n",
    "        monthly_cases = monthly_cases + covid_df.iloc[i+1]['new_cases']\n",
    "    else:\n",
    "        list_monthly_cases.append(monthly_cases)\n",
    "        list_monthly_cases_index.append(covid_df.index[i+1])\n",
    "        monthly_cases = covid_df.iloc[i+1]['new_cases']"
   ]
  },
  {
   "cell_type": "code",
   "execution_count": 24,
   "metadata": {},
   "outputs": [
    {
     "data": {
      "text/plain": [
       "\"\\n#control if idea works -> it does\\nprint(list_monthly_cases)\\nprint(covid_df.loc['2020-04-30']['total_cases']-covid_df.loc['2020-03-31']['total_cases'])\\ncovid_df.loc['2020-03-31']['total_cases']\\n\""
      ]
     },
     "execution_count": 24,
     "metadata": {},
     "output_type": "execute_result"
    }
   ],
   "source": [
    "'''\n",
    "#control if idea works -> it does\n",
    "print(list_monthly_cases)\n",
    "print(covid_df.loc['2020-04-30']['total_cases']-covid_df.loc['2020-03-31']['total_cases'])\n",
    "covid_df.loc['2020-03-31']['total_cases']\n",
    "'''"
   ]
  },
  {
   "cell_type": "code",
   "execution_count": 25,
   "metadata": {},
   "outputs": [
    {
     "data": {
      "text/html": [
       "<div>\n",
       "<style scoped>\n",
       "    .dataframe tbody tr th:only-of-type {\n",
       "        vertical-align: middle;\n",
       "    }\n",
       "\n",
       "    .dataframe tbody tr th {\n",
       "        vertical-align: top;\n",
       "    }\n",
       "\n",
       "    .dataframe thead th {\n",
       "        text-align: right;\n",
       "    }\n",
       "</style>\n",
       "<table border=\"1\" class=\"dataframe\">\n",
       "  <thead>\n",
       "    <tr style=\"text-align: right;\">\n",
       "      <th></th>\n",
       "      <th>CZK/USD</th>\n",
       "      <th>Summed Monthly Cases</th>\n",
       "    </tr>\n",
       "  </thead>\n",
       "  <tbody>\n",
       "    <tr>\n",
       "      <th>2020-03-01</th>\n",
       "      <td>24.042864</td>\n",
       "      <td>NaN</td>\n",
       "    </tr>\n",
       "    <tr>\n",
       "      <th>2020-04-01</th>\n",
       "      <td>25.069682</td>\n",
       "      <td>3308.0</td>\n",
       "    </tr>\n",
       "    <tr>\n",
       "      <th>2020-05-01</th>\n",
       "      <td>25.012381</td>\n",
       "      <td>4374.0</td>\n",
       "    </tr>\n",
       "    <tr>\n",
       "      <th>2020-06-01</th>\n",
       "      <td>23.706455</td>\n",
       "      <td>1586.0</td>\n",
       "    </tr>\n",
       "    <tr>\n",
       "      <th>2020-07-01</th>\n",
       "      <td>23.145000</td>\n",
       "      <td>2686.0</td>\n",
       "    </tr>\n",
       "    <tr>\n",
       "      <th>2020-08-01</th>\n",
       "      <td>22.122381</td>\n",
       "      <td>4620.0</td>\n",
       "    </tr>\n",
       "    <tr>\n",
       "      <th>2020-09-01</th>\n",
       "      <td>22.679909</td>\n",
       "      <td>8044.0</td>\n",
       "    </tr>\n",
       "    <tr>\n",
       "      <th>2020-10-01</th>\n",
       "      <td>23.098409</td>\n",
       "      <td>46145.0</td>\n",
       "    </tr>\n",
       "    <tr>\n",
       "      <th>2020-11-01</th>\n",
       "      <td>22.357048</td>\n",
       "      <td>264339.0</td>\n",
       "    </tr>\n",
       "    <tr>\n",
       "      <th>2020-12-01</th>\n",
       "      <td>21.629913</td>\n",
       "      <td>188196.0</td>\n",
       "    </tr>\n",
       "    <tr>\n",
       "      <th>2021-01-01</th>\n",
       "      <td>21.474714</td>\n",
       "      <td>195363.0</td>\n",
       "    </tr>\n",
       "    <tr>\n",
       "      <th>2021-02-01</th>\n",
       "      <td>21.388100</td>\n",
       "      <td>266113.0</td>\n",
       "    </tr>\n",
       "    <tr>\n",
       "      <th>2021-03-01</th>\n",
       "      <td>22.002043</td>\n",
       "      <td>250706.0</td>\n",
       "    </tr>\n",
       "    <tr>\n",
       "      <th>2021-04-01</th>\n",
       "      <td>21.694591</td>\n",
       "      <td>296852.0</td>\n",
       "    </tr>\n",
       "    <tr>\n",
       "      <th>2021-05-01</th>\n",
       "      <td>NaN</td>\n",
       "      <td>98426.0</td>\n",
       "    </tr>\n",
       "  </tbody>\n",
       "</table>\n",
       "</div>"
      ],
      "text/plain": [
       "              CZK/USD  Summed Monthly Cases\n",
       "2020-03-01  24.042864                   NaN\n",
       "2020-04-01  25.069682                3308.0\n",
       "2020-05-01  25.012381                4374.0\n",
       "2020-06-01  23.706455                1586.0\n",
       "2020-07-01  23.145000                2686.0\n",
       "2020-08-01  22.122381                4620.0\n",
       "2020-09-01  22.679909                8044.0\n",
       "2020-10-01  23.098409               46145.0\n",
       "2020-11-01  22.357048              264339.0\n",
       "2020-12-01  21.629913              188196.0\n",
       "2021-01-01  21.474714              195363.0\n",
       "2021-02-01  21.388100              266113.0\n",
       "2021-03-01  22.002043              250706.0\n",
       "2021-04-01  21.694591              296852.0\n",
       "2021-05-01        NaN               98426.0"
      ]
     },
     "execution_count": 25,
     "metadata": {},
     "output_type": "execute_result"
    }
   ],
   "source": [
    "#safe list of monthly cases as df, concat with df on CZK/USD data\n",
    "monthly_cases_summed = pd.DataFrame(data = list_monthly_cases, index = list_monthly_cases_index, columns = ['Summed Monthly Cases'])\n",
    "result = pd.concat([czk_df,monthly_cases_summed], axis = 1)\n",
    "result"
   ]
  },
  {
   "cell_type": "code",
   "execution_count": 26,
   "metadata": {},
   "outputs": [],
   "source": [
    "result.to_parquet('data/merged_data.parquet')"
   ]
  },
  {
   "cell_type": "code",
   "execution_count": null,
   "metadata": {},
   "outputs": [],
   "source": []
  }
 ],
 "metadata": {
  "kernelspec": {
   "display_name": "Python 3",
   "language": "python",
   "name": "python3"
  },
  "language_info": {
   "codemirror_mode": {
    "name": "ipython",
    "version": 3
   },
   "file_extension": ".py",
   "mimetype": "text/x-python",
   "name": "python",
   "nbconvert_exporter": "python",
   "pygments_lexer": "ipython3",
   "version": "3.8.5"
  }
 },
 "nbformat": 4,
 "nbformat_minor": 4
}
