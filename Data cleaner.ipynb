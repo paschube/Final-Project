{
 "cells": [
  {
   "cell_type": "code",
   "execution_count": 3,
   "metadata": {},
   "outputs": [],
   "source": [
    "import pandas as pd"
   ]
  },
  {
   "cell_type": "code",
   "execution_count": 4,
   "metadata": {},
   "outputs": [],
   "source": [
    "countries = ['CZE', 'POL', 'HUN']"
   ]
  },
  {
   "cell_type": "code",
   "execution_count": 5,
   "metadata": {},
   "outputs": [],
   "source": [
    "#give function df to cut, the column were you want to define a slice and a list of values which should be sliced\n",
    "#get a list of dfs, one for each defined value of cut-list, NaNs are dropped, index is datetime\n",
    "def cut_df(df, column_to_cut, cut):\n",
    "    covid_dfs = []\n",
    "    for i in range(len(cut)):\n",
    "        cut_df = df.where(df[column_to_cut] == cut[i]).dropna(how='all')\n",
    "        cut_df = cut_df.dropna(axis=1, how='all')\n",
    "        cut_df.index = pd.to_datetime(cut_df.index)\n",
    "        covid_dfs.append(cut_df)\n",
    "    return pd.Series(data = covid_dfs, index = cut)"
   ]
  },
  {
   "cell_type": "code",
   "execution_count": 7,
   "metadata": {},
   "outputs": [],
   "source": [
    "exchange_df = pd.read_parquet('data/FRED_Req.parquet')\n",
    "covid_df = pd.read_parquet('data/OWID_Req.parquet')"
   ]
  },
  {
   "cell_type": "code",
   "execution_count": 8,
   "metadata": {},
   "outputs": [],
   "source": [
    "#make df from FRED data, convert index to datetime\n",
    "exchange_df.index = pd.to_datetime(exchange_df.index)\n",
    "exchange_df = exchange_df.loc['2020-03-01':,:].astype(float) #this does work but with warning"
   ]
  },
  {
   "cell_type": "code",
   "execution_count": 9,
   "metadata": {},
   "outputs": [],
   "source": [
    "covid_dfs = cut_df(covid_df, 'iso_code', countries)"
   ]
  },
  {
   "cell_type": "code",
   "execution_count": 10,
   "metadata": {},
   "outputs": [],
   "source": [
    "#problem: FRED data monthly, OWID data daily -> need to convert OWID data\n",
    "#add up cases of a month, save in a list\n",
    "list_results = []\n",
    "for j in range(len(covid_dfs)):\n",
    "    list_monthly_cases = []\n",
    "    list_monthly_cases_index = []\n",
    "    monthly_cases = covid_dfs[j].iloc[0]['new_cases']\n",
    "    for i in range(len(covid_dfs[j])-1):\n",
    "        if covid_dfs[j].index[i].month == covid_dfs[j].index[i+1].month:\n",
    "            monthly_cases = monthly_cases + covid_dfs[j].iloc[i+1]['new_cases']\n",
    "        else:\n",
    "            list_monthly_cases.append(monthly_cases)\n",
    "            list_monthly_cases_index.append(covid_dfs[j].index[i+1])\n",
    "            monthly_cases = covid_dfs[j].iloc[i+1]['new_cases']\n",
    "    #safe list of monthly cases as df, concat with df on CZK/USD data\n",
    "    monthly_cases_summed = pd.DataFrame(data = list_monthly_cases, index = list_monthly_cases_index)\n",
    "    if j == 0:\n",
    "        monthly_cases_summed_df = monthly_cases_summed\n",
    "    else:\n",
    "        monthly_cases_summed_df[j] = monthly_cases_summed\n",
    "monthly_cases_summed_df.columns = countries    "
   ]
  },
  {
   "cell_type": "code",
   "execution_count": 11,
   "metadata": {},
   "outputs": [],
   "source": [
    "#safe dfs to parquet\n",
    "monthly_cases_summed_df.to_parquet('data/monthly_cases_summed.parquet')\n",
    "exchange_df.to_parquet('data/exchange.parquet')"
   ]
  },
  {
   "cell_type": "code",
   "execution_count": 2,
   "metadata": {},
   "outputs": [
    {
     "data": {
      "text/plain": [
       "\"\\ncan't save multiindex to parquet so I saved both dfs and combine them in data analyser\\n\\nresults = pd.concat([exchange_df, monthly_cases_summed_df], keys=['local currency to USD', 'summed monthly COVID cases'], axis='columns')\\n\""
      ]
     },
     "execution_count": 2,
     "metadata": {},
     "output_type": "execute_result"
    }
   ],
   "source": [
    "#combine dfs with multiindex\n",
    "'''\n",
    "can't save multiindex to parquet so I saved both dfs and combine them in data analyser\n",
    "\n",
    "results = pd.concat([exchange_df, monthly_cases_summed_df], keys=['local currency to USD', 'summed monthly COVID cases'], axis='columns')\n",
    "'''"
   ]
  },
  {
   "cell_type": "code",
   "execution_count": 10,
   "metadata": {},
   "outputs": [
    {
     "data": {
      "text/plain": [
       "\"\\n#control if idea works -> it does\\nprint(list_monthly_cases)\\nprint(covid_df.loc['2020-04-30']['total_cases']-covid_df.loc['2020-03-31']['total_cases'])\\ncovid_df.loc['2020-03-31']['total_cases']\\n\""
      ]
     },
     "execution_count": 10,
     "metadata": {},
     "output_type": "execute_result"
    }
   ],
   "source": [
    "'''\n",
    "#control if idea works -> it does\n",
    "print(list_monthly_cases)\n",
    "print(covid_df.loc['2020-04-30']['total_cases']-covid_df.loc['2020-03-31']['total_cases'])\n",
    "covid_df.loc['2020-03-31']['total_cases']\n",
    "'''"
   ]
  },
  {
   "cell_type": "code",
   "execution_count": 1,
   "metadata": {},
   "outputs": [],
   "source": [
    "#results.to_parquet('data/merged_data.parquet')"
   ]
  }
 ],
 "metadata": {
  "kernelspec": {
   "display_name": "Python 3",
   "language": "python",
   "name": "python3"
  },
  "language_info": {
   "codemirror_mode": {
    "name": "ipython",
    "version": 3
   },
   "file_extension": ".py",
   "mimetype": "text/x-python",
   "name": "python",
   "nbconvert_exporter": "python",
   "pygments_lexer": "ipython3",
   "version": "3.8.5"
  }
 },
 "nbformat": 4,
 "nbformat_minor": 4
}
