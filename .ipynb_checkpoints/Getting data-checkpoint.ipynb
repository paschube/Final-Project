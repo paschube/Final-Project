{
 "cells": [
  {
   "cell_type": "code",
   "execution_count": 1,
   "metadata": {},
   "outputs": [],
   "source": [
    "#notes, links, etc.\n",
    "\n",
    "#FRED data: \n",
    "#dataset: https://fred.stlouisfed.org/series/CCUSMA02CZM618N#\n",
    "#link structure API: https://api.stlouisfed.org/fred/series?series_id=GNPCA&api_key=abcdefghijklmnopqrstuvwxyz123456&file_type=json\n",
    "\n",
    "#COVID-Data\n",
    "covid_url = 'https://covid.ourworldindata.org/data/owid-covid-data.csv'\n",
    "#list of ISO-country codes: https://en.wikipedia.org/wiki/ISO_3166-1_alpha-3#Officially_assigned_code_elements\n",
    "\n",
    "#GDP Data\n",
    "gdp_url = 'https://tradingeconomics.com/czech-republic/gdp-constant-prices'"
   ]
  },
  {
   "cell_type": "code",
   "execution_count": 2,
   "metadata": {},
   "outputs": [],
   "source": [
    "#import packages\n",
    "import requests\n",
    "import pandas as pd\n",
    "from keys import FRED_key"
   ]
  },
  {
   "cell_type": "code",
   "execution_count": 3,
   "metadata": {},
   "outputs": [],
   "source": [
    "#Requests class: initialized with url to get data from and request type (kind)\n",
    "\n",
    "class Req:\n",
    "    def __init__(self, url, kind, data = None):\n",
    "        self.url = url\n",
    "        self.kind = kind\n",
    "        \n",
    "#class method to request data from url depending on type of requests (API, Direct Download, ...)\n",
    "#note API request yet specifically written for FRED request -> should be more general\n",
    "        \n",
    "    def request_data(self, index):\n",
    "        if self.kind == 'DirectDl':\n",
    "            self.data = pd.read_csv(self.url).set_index(index)\n",
    "        elif self.kind == 'API':\n",
    "            self.data = pd.DataFrame(requests.get(self.url).json()['observations'])\n",
    "            self.data = self.data.set_index([index])\n",
    "            self.data = self.data.drop(['realtime_start', 'realtime_end'], axis=1)\n",
    "        else:\n",
    "            print('Request-type not eglible.')\n",
    "        pass"
   ]
  },
  {
   "cell_type": "code",
   "execution_count": 4,
   "metadata": {},
   "outputs": [],
   "source": [
    "#create Series for API exchange rate requests, create an Req instance for every request, safe all requested data in exchange_df, name columns\n",
    "#REMINDER: columns names do not yet have currency codes but country codes\n",
    "index = ['CZ', 'PL', 'HU']\n",
    "series_ids = pd.Series(data = ['CCUSMA02CZM618N', 'CCUSMA02PLM618N', 'CCUSMA02HUM618N'], index = index)\n",
    "columns = []\n",
    "\n",
    "for i in range(len(series_ids)):\n",
    "    FRED_Req = Req(f'https://api.stlouisfed.org/fred/series/observations?series_id={series_ids[i]}&api_key={FRED_key}&file_type=json', 'API')\n",
    "    FRED_Req.request_data('date')\n",
    "    if i == 0:\n",
    "        exchange_df = FRED_Req.data\n",
    "    else:\n",
    "        exchange_df[f'{series_ids.index[i]}'] = FRED_Req.data\n",
    "    columns.append(f'{index[i]}/USD')\n",
    "exchange_df.columns = columns"
   ]
  },
  {
   "cell_type": "code",
   "execution_count": 5,
   "metadata": {},
   "outputs": [],
   "source": [
    "#create instance of Req for OWID request, request data from OWID, save as covid_df\n",
    "OWID_Req = Req('https://covid.ourworldindata.org/data/owid-covid-data.csv', 'DirectDl')\n",
    "OWID_Req.request_data('date')\n",
    "covid_df = OWID_Req.data"
   ]
  },
  {
   "cell_type": "code",
   "execution_count": 6,
   "metadata": {},
   "outputs": [],
   "source": [
    "exchange_df.to_parquet('data/FRED_Req.parquet')\n",
    "covid_df.to_parquet('data/OWID_Req.parquet')"
   ]
  },
  {
   "cell_type": "code",
   "execution_count": null,
   "metadata": {},
   "outputs": [],
   "source": []
  }
 ],
 "metadata": {
  "kernelspec": {
   "display_name": "Python 3",
   "language": "python",
   "name": "python3"
  },
  "language_info": {
   "codemirror_mode": {
    "name": "ipython",
    "version": 3
   },
   "file_extension": ".py",
   "mimetype": "text/x-python",
   "name": "python",
   "nbconvert_exporter": "python",
   "pygments_lexer": "ipython3",
   "version": "3.8.5"
  }
 },
 "nbformat": 4,
 "nbformat_minor": 4
}
