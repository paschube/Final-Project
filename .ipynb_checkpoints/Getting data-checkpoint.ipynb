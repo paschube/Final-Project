{
 "cells": [
  {
   "cell_type": "code",
   "execution_count": 2,
   "metadata": {},
   "outputs": [],
   "source": [
    "#notes, links, etc.\n",
    "\n",
    "#FRED data: \n",
    "#dataset: https://fred.stlouisfed.org/series/CCUSMA02CZM618N#\n",
    "#link structure API: https://api.stlouisfed.org/fred/series?series_id=GNPCA&api_key=abcdefghijklmnopqrstuvwxyz123456&file_type=json\n",
    "key = '290c57887172f5dd570f2f3e19b006dd'\n",
    "series_ID = 'CCUSMA02CZM618N'\n",
    "\n",
    "#COVID-Data\n",
    "covid_url = 'https://covid.ourworldindata.org/data/owid-covid-data.csv'\n",
    "\n",
    "#GDP Data\n",
    "gdp_url = 'https://tradingeconomics.com/czech-republic/gdp-constant-prices'"
   ]
  },
  {
   "cell_type": "code",
   "execution_count": 3,
   "metadata": {},
   "outputs": [],
   "source": [
    "#import packages\n",
    "import requests\n",
    "import pandas as pd"
   ]
  },
  {
   "cell_type": "code",
   "execution_count": 4,
   "metadata": {},
   "outputs": [],
   "source": [
    "#Requests class: initialized with url to get data from and request type (kind)\n",
    "\n",
    "class Req:\n",
    "    def __init__(self, url, kind, data = None):\n",
    "        self.url = url\n",
    "        self.kind = kind\n",
    "        \n",
    "#class method to request data from url depending on type of requests (API, Direct Download, ...)\n",
    "#note API request yet specifically written for FRED request -> should be more general\n",
    "        \n",
    "    def request_data(self, index):\n",
    "        if self.kind == 'DirectDl':\n",
    "            self.data = pd.read_csv(self.url).set_index(index)\n",
    "        elif self.kind == 'API':\n",
    "            self.data = pd.DataFrame(requests.get(self.url).json()['observations']).set_index([index]).drop(['realtime_start', 'realtime_end'], axis=1)\n",
    "        else:\n",
    "            print('Request-type not eglible.')\n",
    "        pass"
   ]
  },
  {
   "cell_type": "code",
   "execution_count": 5,
   "metadata": {},
   "outputs": [],
   "source": [
    "#create instances of Req for FRED and OWID request\n",
    "FRED_Req = Req('https://api.stlouisfed.org/fred/series/observations?series_id=CCUSMA02CZM618N&api_key=290c57887172f5dd570f2f3e19b006dd&file_type=json', 'API')\n",
    "OWID_Req = Req('https://covid.ourworldindata.org/data/owid-covid-data.csv', 'DirectDl')"
   ]
  },
  {
   "cell_type": "code",
   "execution_count": 6,
   "metadata": {},
   "outputs": [],
   "source": [
    "#request data from FRED + OWID, save as df + covid_df\n",
    "OWID_Req.request_data('date')\n",
    "FRED_Req.request_data('date')\n",
    "\n",
    "czk_df = FRED_Req.data\n",
    "covid_df = OWID_Req.data"
   ]
  },
  {
   "cell_type": "code",
   "execution_count": 20,
   "metadata": {},
   "outputs": [
    {
     "name": "stdout",
     "output_type": "stream",
     "text": [
      "              CZK/USD\n",
      "date                 \n",
      "2020-03-01  24.042864\n",
      "2020-04-01  25.069682\n",
      "2020-05-01  25.012381\n",
      "2020-06-01  23.706455\n",
      "2020-07-01  23.145000\n",
      "2020-08-01  22.122381\n",
      "2020-09-01  22.679909\n",
      "2020-10-01  23.098409\n",
      "2020-11-01  22.357048\n",
      "2020-12-01  21.629913\n",
      "2021-01-01  21.474714\n",
      "2021-02-01  21.388100\n",
      "2021-03-01  22.002043\n",
      "2021-04-01  21.694591\n"
     ]
    }
   ],
   "source": [
    "print(czk_df)"
   ]
  },
  {
   "cell_type": "code",
   "execution_count": 21,
   "metadata": {},
   "outputs": [
    {
     "name": "stdout",
     "output_type": "stream",
     "text": [
      "           iso_code continent location  total_cases  new_cases  \\\n",
      "date                                                             \n",
      "2020-03-01      CZE    Europe  Czechia          3.0        3.0   \n",
      "2020-03-02      CZE    Europe  Czechia          3.0        0.0   \n",
      "2020-03-03      CZE    Europe  Czechia          5.0        2.0   \n",
      "2020-03-04      CZE    Europe  Czechia          8.0        3.0   \n",
      "2020-03-05      CZE    Europe  Czechia         12.0        4.0   \n",
      "...             ...       ...      ...          ...        ...   \n",
      "2021-05-14      CZE    Europe  Czechia    1651178.0     1231.0   \n",
      "2021-05-15      CZE    Europe  Czechia    1652238.0     1060.0   \n",
      "2021-05-16      CZE    Europe  Czechia    1652840.0      602.0   \n",
      "2021-05-17      CZE    Europe  Czechia    1653099.0      259.0   \n",
      "2021-05-18      CZE    Europe  Czechia    1654219.0     1120.0   \n",
      "\n",
      "            new_cases_smoothed  total_deaths  new_deaths  new_deaths_smoothed  \\\n",
      "date                                                                            \n",
      "2020-03-01                 NaN           NaN         NaN                  NaN   \n",
      "2020-03-02                 NaN           NaN         NaN                  NaN   \n",
      "2020-03-03                 NaN           NaN         NaN                  NaN   \n",
      "2020-03-04                 NaN           NaN         NaN                  NaN   \n",
      "2020-03-05                 NaN           NaN         NaN                  NaN   \n",
      "...                        ...           ...         ...                  ...   \n",
      "2021-05-14            1211.714       29857.0        32.0               35.571   \n",
      "2021-05-15            1129.000       29886.0        29.0               34.143   \n",
      "2021-05-16            1111.286       29901.0        15.0               33.429   \n",
      "2021-05-17            1093.000       29913.0        12.0               28.857   \n",
      "2021-05-18            1034.000       29933.0        20.0               26.286   \n",
      "\n",
      "            total_cases_per_million  ...  aged_65_older  aged_70_older  \\\n",
      "date                                 ...                                 \n",
      "2020-03-01                    0.280  ...         19.027          11.58   \n",
      "2020-03-02                    0.280  ...         19.027          11.58   \n",
      "2020-03-03                    0.467  ...         19.027          11.58   \n",
      "2020-03-04                    0.747  ...         19.027          11.58   \n",
      "2020-03-05                    1.121  ...         19.027          11.58   \n",
      "...                             ...  ...            ...            ...   \n",
      "2021-05-14               154186.271  ...         19.027          11.58   \n",
      "2021-05-15               154285.253  ...         19.027          11.58   \n",
      "2021-05-16               154341.468  ...         19.027          11.58   \n",
      "2021-05-17               154365.653  ...         19.027          11.58   \n",
      "2021-05-18               154470.238  ...         19.027          11.58   \n",
      "\n",
      "            gdp_per_capita  cardiovasc_death_rate  diabetes_prevalence  \\\n",
      "date                                                                     \n",
      "2020-03-01       32605.906                227.485                 6.82   \n",
      "2020-03-02       32605.906                227.485                 6.82   \n",
      "2020-03-03       32605.906                227.485                 6.82   \n",
      "2020-03-04       32605.906                227.485                 6.82   \n",
      "2020-03-05       32605.906                227.485                 6.82   \n",
      "...                    ...                    ...                  ...   \n",
      "2021-05-14       32605.906                227.485                 6.82   \n",
      "2021-05-15       32605.906                227.485                 6.82   \n",
      "2021-05-16       32605.906                227.485                 6.82   \n",
      "2021-05-17       32605.906                227.485                 6.82   \n",
      "2021-05-18       32605.906                227.485                 6.82   \n",
      "\n",
      "            female_smokers  male_smokers  hospital_beds_per_thousand  \\\n",
      "date                                                                   \n",
      "2020-03-01            30.5          38.3                        6.63   \n",
      "2020-03-02            30.5          38.3                        6.63   \n",
      "2020-03-03            30.5          38.3                        6.63   \n",
      "2020-03-04            30.5          38.3                        6.63   \n",
      "2020-03-05            30.5          38.3                        6.63   \n",
      "...                    ...           ...                         ...   \n",
      "2021-05-14            30.5          38.3                        6.63   \n",
      "2021-05-15            30.5          38.3                        6.63   \n",
      "2021-05-16            30.5          38.3                        6.63   \n",
      "2021-05-17            30.5          38.3                        6.63   \n",
      "2021-05-18            30.5          38.3                        6.63   \n",
      "\n",
      "            life_expectancy  human_development_index  \n",
      "date                                                  \n",
      "2020-03-01            79.38                      0.9  \n",
      "2020-03-02            79.38                      0.9  \n",
      "2020-03-03            79.38                      0.9  \n",
      "2020-03-04            79.38                      0.9  \n",
      "2020-03-05            79.38                      0.9  \n",
      "...                     ...                      ...  \n",
      "2021-05-14            79.38                      0.9  \n",
      "2021-05-15            79.38                      0.9  \n",
      "2021-05-16            79.38                      0.9  \n",
      "2021-05-17            79.38                      0.9  \n",
      "2021-05-18            79.38                      0.9  \n",
      "\n",
      "[444 rows x 54 columns]\n"
     ]
    }
   ],
   "source": [
    "print(covid_df)"
   ]
  },
  {
   "cell_type": "code",
   "execution_count": 8,
   "metadata": {},
   "outputs": [
    {
     "name": "stderr",
     "output_type": "stream",
     "text": [
      "<ipython-input-8-8daf779aa728>:5: SettingWithCopyWarning: \n",
      "A value is trying to be set on a copy of a slice from a DataFrame.\n",
      "Try using .loc[row_indexer,col_indexer] = value instead\n",
      "\n",
      "See the caveats in the documentation: https://pandas.pydata.org/pandas-docs/stable/user_guide/indexing.html#returning-a-view-versus-a-copy\n",
      "  czk_df['CZK/USD'] = czk_df['CZK/USD'].astype(float)\n"
     ]
    }
   ],
   "source": [
    "#make df from FRED data, convert index to datetime\n",
    "czk_df.index = pd.to_datetime(czk_df.index)\n",
    "czk_df = df.loc['2020-03-01':,:] #this code does not work\n",
    "czk_df = czk_df.loc['2020-03-01':,:] #this does work but with warning\n",
    "czk_df.columns = ['CZK/USD']\n",
    "czk_df['CZK/USD'] = czk_df['CZK/USD'].astype(float)\n",
    "#df"
   ]
  },
  {
   "cell_type": "code",
   "execution_count": 9,
   "metadata": {},
   "outputs": [],
   "source": [
    "#cut data on Czech Republic, drop empty columns and rows, convert index to datetime\n",
    "covid_df = covid_df.where(covid_df['location'] == 'Czechia').dropna(how='all')\n",
    "covid_df = covid_df.dropna(axis=1, how='all')\n",
    "covid_df.index = pd.to_datetime(covid_df.index)\n",
    "#covid_df"
   ]
  },
  {
   "cell_type": "code",
   "execution_count": 10,
   "metadata": {},
   "outputs": [],
   "source": [
    "#problem: FRED data monthly, OWID data daily -> need to convert OWID data\n",
    "#add up cases of a month, save in a list\n",
    "list_monthly_cases = []\n",
    "list_monthly_cases_index = []\n",
    "monthly_cases = covid_df.iloc[0]['new_cases']\n",
    "for i in range(len(covid_df)-1):\n",
    "    if covid_df.index[i].month == covid_df.index[i+1].month:\n",
    "        monthly_cases = monthly_cases + covid_df.iloc[i+1]['new_cases']\n",
    "    else:\n",
    "        list_monthly_cases.append(monthly_cases)\n",
    "        list_monthly_cases_index.append(covid_df.index[i+1])\n",
    "        monthly_cases = covid_df.iloc[i+1]['new_cases']"
   ]
  },
  {
   "cell_type": "code",
   "execution_count": 11,
   "metadata": {},
   "outputs": [
    {
     "name": "stdout",
     "output_type": "stream",
     "text": [
      "[3308.0, 4374.0, 1586.0, 2686.0, 4620.0, 8044.0, 46145.0, 264339.0, 188196.0, 195363.0, 266113.0, 250706.0, 296852.0, 98426.0]\n",
      "4374.0\n"
     ]
    },
    {
     "data": {
      "text/plain": [
       "3308.0"
      ]
     },
     "execution_count": 11,
     "metadata": {},
     "output_type": "execute_result"
    }
   ],
   "source": [
    "#control if idea works -> it does\n",
    "print(list_monthly_cases)\n",
    "print(covid_df.loc['2020-04-30']['total_cases']-covid_df.loc['2020-03-31']['total_cases'])\n",
    "covid_df.loc['2020-03-31']['total_cases']"
   ]
  },
  {
   "cell_type": "code",
   "execution_count": 17,
   "metadata": {},
   "outputs": [
    {
     "data": {
      "text/html": [
       "<div>\n",
       "<style scoped>\n",
       "    .dataframe tbody tr th:only-of-type {\n",
       "        vertical-align: middle;\n",
       "    }\n",
       "\n",
       "    .dataframe tbody tr th {\n",
       "        vertical-align: top;\n",
       "    }\n",
       "\n",
       "    .dataframe thead th {\n",
       "        text-align: right;\n",
       "    }\n",
       "</style>\n",
       "<table border=\"1\" class=\"dataframe\">\n",
       "  <thead>\n",
       "    <tr style=\"text-align: right;\">\n",
       "      <th></th>\n",
       "      <th>CZK/USD</th>\n",
       "      <th>Summed Monthly Cases</th>\n",
       "    </tr>\n",
       "  </thead>\n",
       "  <tbody>\n",
       "    <tr>\n",
       "      <th>2020-03-01</th>\n",
       "      <td>24.042864</td>\n",
       "      <td>NaN</td>\n",
       "    </tr>\n",
       "    <tr>\n",
       "      <th>2020-04-01</th>\n",
       "      <td>25.069682</td>\n",
       "      <td>3308.0</td>\n",
       "    </tr>\n",
       "    <tr>\n",
       "      <th>2020-05-01</th>\n",
       "      <td>25.012381</td>\n",
       "      <td>4374.0</td>\n",
       "    </tr>\n",
       "    <tr>\n",
       "      <th>2020-06-01</th>\n",
       "      <td>23.706455</td>\n",
       "      <td>1586.0</td>\n",
       "    </tr>\n",
       "    <tr>\n",
       "      <th>2020-07-01</th>\n",
       "      <td>23.145000</td>\n",
       "      <td>2686.0</td>\n",
       "    </tr>\n",
       "    <tr>\n",
       "      <th>2020-08-01</th>\n",
       "      <td>22.122381</td>\n",
       "      <td>4620.0</td>\n",
       "    </tr>\n",
       "    <tr>\n",
       "      <th>2020-09-01</th>\n",
       "      <td>22.679909</td>\n",
       "      <td>8044.0</td>\n",
       "    </tr>\n",
       "    <tr>\n",
       "      <th>2020-10-01</th>\n",
       "      <td>23.098409</td>\n",
       "      <td>46145.0</td>\n",
       "    </tr>\n",
       "    <tr>\n",
       "      <th>2020-11-01</th>\n",
       "      <td>22.357048</td>\n",
       "      <td>264339.0</td>\n",
       "    </tr>\n",
       "    <tr>\n",
       "      <th>2020-12-01</th>\n",
       "      <td>21.629913</td>\n",
       "      <td>188196.0</td>\n",
       "    </tr>\n",
       "    <tr>\n",
       "      <th>2021-01-01</th>\n",
       "      <td>21.474714</td>\n",
       "      <td>195363.0</td>\n",
       "    </tr>\n",
       "    <tr>\n",
       "      <th>2021-02-01</th>\n",
       "      <td>21.388100</td>\n",
       "      <td>266113.0</td>\n",
       "    </tr>\n",
       "    <tr>\n",
       "      <th>2021-03-01</th>\n",
       "      <td>22.002043</td>\n",
       "      <td>250706.0</td>\n",
       "    </tr>\n",
       "    <tr>\n",
       "      <th>2021-04-01</th>\n",
       "      <td>21.694591</td>\n",
       "      <td>296852.0</td>\n",
       "    </tr>\n",
       "    <tr>\n",
       "      <th>2021-05-01</th>\n",
       "      <td>NaN</td>\n",
       "      <td>98426.0</td>\n",
       "    </tr>\n",
       "  </tbody>\n",
       "</table>\n",
       "</div>"
      ],
      "text/plain": [
       "              CZK/USD  Summed Monthly Cases\n",
       "2020-03-01  24.042864                   NaN\n",
       "2020-04-01  25.069682                3308.0\n",
       "2020-05-01  25.012381                4374.0\n",
       "2020-06-01  23.706455                1586.0\n",
       "2020-07-01  23.145000                2686.0\n",
       "2020-08-01  22.122381                4620.0\n",
       "2020-09-01  22.679909                8044.0\n",
       "2020-10-01  23.098409               46145.0\n",
       "2020-11-01  22.357048              264339.0\n",
       "2020-12-01  21.629913              188196.0\n",
       "2021-01-01  21.474714              195363.0\n",
       "2021-02-01  21.388100              266113.0\n",
       "2021-03-01  22.002043              250706.0\n",
       "2021-04-01  21.694591              296852.0\n",
       "2021-05-01        NaN               98426.0"
      ]
     },
     "execution_count": 17,
     "metadata": {},
     "output_type": "execute_result"
    }
   ],
   "source": [
    "#safe list of monthly cases as df, concat with df on CZK/USD data\n",
    "monthly_cases_summed = pd.DataFrame(data = list_monthly_cases, index = list_monthly_cases_index, columns = ['Summed Monthly Cases'])\n",
    "result = pd.concat([czk_df,monthly_cases_summed], axis = 1)\n",
    "result"
   ]
  },
  {
   "cell_type": "code",
   "execution_count": 18,
   "metadata": {},
   "outputs": [],
   "source": [
    "result.to_csv('merged_data.csv')"
   ]
  },
  {
   "cell_type": "code",
   "execution_count": null,
   "metadata": {},
   "outputs": [],
   "source": []
  },
  {
   "cell_type": "code",
   "execution_count": 19,
   "metadata": {},
   "outputs": [
    {
     "data": {
      "image/png": "[encoded data removed]",
      "text/plain": [
       "<Figure size 432x288 with 1 Axes>"
      ]
     },
     "metadata": {
      "needs_background": "light"
     },
     "output_type": "display_data"
    }
   ],
   "source": [
    "plot_data(result, 'Summed Monthly Cases', 3, 'Summed Monthly Cases')"
   ]
  },
  {
   "cell_type": "code",
   "execution_count": 16,
   "metadata": {},
   "outputs": [
    {
     "data": {
      "image/png": "[encoded data removed]",
      "text/plain": [
       "<Figure size 432x288 with 1 Axes>"
      ]
     },
     "metadata": {
      "needs_background": "light"
     },
     "output_type": "display_data"
    }
   ],
   "source": [
    "plot_data(result, 'CZK/USD', 3, 'CZK/USD')"
   ]
  },
  {
   "cell_type": "code",
   "execution_count": null,
   "metadata": {},
   "outputs": [],
   "source": []
  }
 ],
 "metadata": {
  "kernelspec": {
   "display_name": "Python 3",
   "language": "python",
   "name": "python3"
  },
  "language_info": {
   "codemirror_mode": {
    "name": "ipython",
    "version": 3
   },
   "file_extension": ".py",
   "mimetype": "text/x-python",
   "name": "python",
   "nbconvert_exporter": "python",
   "pygments_lexer": "ipython3",
   "version": "3.8.5"
  }
 },
 "nbformat": 4,
 "nbformat_minor": 4
}
