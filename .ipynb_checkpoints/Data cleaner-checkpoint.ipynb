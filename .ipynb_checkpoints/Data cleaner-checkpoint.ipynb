{
 "cells": [
  {
   "cell_type": "code",
   "execution_count": 1,
   "metadata": {},
   "outputs": [],
   "source": [
    "import pandas as pd"
   ]
  },
  {
   "cell_type": "code",
   "execution_count": 4,
   "metadata": {},
   "outputs": [],
   "source": [
    "countries = ['CZE', 'POL', 'HUN']"
   ]
  },
  {
   "cell_type": "code",
   "execution_count": 5,
   "metadata": {},
   "outputs": [],
   "source": [
    "#give function df to cut, the column were you want to define a slice and a list of values which should be sliced\n",
    "#get a list of dfs, one for each defined value of cut-list, NaNs are dropped, index is datetime\n",
    "def cut_df(df, column_to_cut, cut):\n",
    "    covid_dfs = []\n",
    "    for i in range(len(cut)):\n",
    "        cut_df = df.where(df[column_to_cut] == cut[i]).dropna(how='all')\n",
    "        cut_df = cut_df.dropna(axis=1, how='all')\n",
    "        cut_df.index = pd.to_datetime(cut_df.index)\n",
    "        covid_dfs.append(cut_df)\n",
    "    return pd.Series(data = covid_dfs, index = cut)"
   ]
  },
  {
   "cell_type": "code",
   "execution_count": 2,
   "metadata": {},
   "outputs": [],
   "source": [
    "exchange_df = pd.read_parquet('data/FRED_Req.parquet')\n",
    "covid_df = pd.read_parquet('data/OWID_Req.parquet')\n",
    "nasdaq_df = pd.read_parquet('data/QUANDL_Req.parquet')"
   ]
  },
  {
   "cell_type": "code",
   "execution_count": 8,
   "metadata": {},
   "outputs": [],
   "source": [
    "#make df from FRED data, convert index to datetime\n",
    "exchange_df.index = pd.to_datetime(exchange_df.index)\n",
    "exchange_df = exchange_df.loc['2020-03-01':,:].astype(float) #this does work but with warning"
   ]
  },
  {
   "cell_type": "code",
   "execution_count": 10,
   "metadata": {},
   "outputs": [
    {
     "data": {
      "text/html": [
       "<div>\n",
       "<style scoped>\n",
       "    .dataframe tbody tr th:only-of-type {\n",
       "        vertical-align: middle;\n",
       "    }\n",
       "\n",
       "    .dataframe tbody tr th {\n",
       "        vertical-align: top;\n",
       "    }\n",
       "\n",
       "    .dataframe thead th {\n",
       "        text-align: right;\n",
       "    }\n",
       "</style>\n",
       "<table border=\"1\" class=\"dataframe\">\n",
       "  <thead>\n",
       "    <tr style=\"text-align: right;\">\n",
       "      <th></th>\n",
       "      <th>CZ</th>\n",
       "      <th>PL</th>\n",
       "      <th>HU</th>\n",
       "    </tr>\n",
       "    <tr>\n",
       "      <th>Trade Date</th>\n",
       "      <th></th>\n",
       "      <th></th>\n",
       "      <th></th>\n",
       "    </tr>\n",
       "  </thead>\n",
       "  <tbody>\n",
       "    <tr>\n",
       "      <th>2020-01-31</th>\n",
       "      <td>705.91</td>\n",
       "      <td>773.37</td>\n",
       "      <td>1491.67</td>\n",
       "    </tr>\n",
       "    <tr>\n",
       "      <th>2020-02-03</th>\n",
       "      <td>711.52</td>\n",
       "      <td>774.20</td>\n",
       "      <td>1506.36</td>\n",
       "    </tr>\n",
       "    <tr>\n",
       "      <th>2020-02-04</th>\n",
       "      <td>714.82</td>\n",
       "      <td>789.20</td>\n",
       "      <td>1525.22</td>\n",
       "    </tr>\n",
       "    <tr>\n",
       "      <th>2020-02-05</th>\n",
       "      <td>721.66</td>\n",
       "      <td>798.54</td>\n",
       "      <td>1529.18</td>\n",
       "    </tr>\n",
       "    <tr>\n",
       "      <th>2020-02-06</th>\n",
       "      <td>725.67</td>\n",
       "      <td>790.92</td>\n",
       "      <td>1521.56</td>\n",
       "    </tr>\n",
       "    <tr>\n",
       "      <th>...</th>\n",
       "      <td>...</td>\n",
       "      <td>...</td>\n",
       "      <td>...</td>\n",
       "    </tr>\n",
       "    <tr>\n",
       "      <th>2021-07-22</th>\n",
       "      <td>797.99</td>\n",
       "      <td>862.04</td>\n",
       "      <td>1633.68</td>\n",
       "    </tr>\n",
       "    <tr>\n",
       "      <th>2021-07-23</th>\n",
       "      <td>791.77</td>\n",
       "      <td>863.07</td>\n",
       "      <td>1609.93</td>\n",
       "    </tr>\n",
       "    <tr>\n",
       "      <th>2021-07-26</th>\n",
       "      <td>794.52</td>\n",
       "      <td>862.26</td>\n",
       "      <td>1588.86</td>\n",
       "    </tr>\n",
       "    <tr>\n",
       "      <th>2021-07-27</th>\n",
       "      <td>799.82</td>\n",
       "      <td>859.35</td>\n",
       "      <td>1607.78</td>\n",
       "    </tr>\n",
       "    <tr>\n",
       "      <th>2021-07-28</th>\n",
       "      <td>NaN</td>\n",
       "      <td>NaN</td>\n",
       "      <td>NaN</td>\n",
       "    </tr>\n",
       "  </tbody>\n",
       "</table>\n",
       "<p>389 rows × 3 columns</p>\n",
       "</div>"
      ],
      "text/plain": [
       "                CZ      PL       HU\n",
       "Trade Date                         \n",
       "2020-01-31  705.91  773.37  1491.67\n",
       "2020-02-03  711.52  774.20  1506.36\n",
       "2020-02-04  714.82  789.20  1525.22\n",
       "2020-02-05  721.66  798.54  1529.18\n",
       "2020-02-06  725.67  790.92  1521.56\n",
       "...            ...     ...      ...\n",
       "2021-07-22  797.99  862.04  1633.68\n",
       "2021-07-23  791.77  863.07  1609.93\n",
       "2021-07-26  794.52  862.26  1588.86\n",
       "2021-07-27  799.82  859.35  1607.78\n",
       "2021-07-28     NaN     NaN      NaN\n",
       "\n",
       "[389 rows x 3 columns]"
      ]
     },
     "execution_count": 10,
     "metadata": {},
     "output_type": "execute_result"
    }
   ],
   "source": [
    "#convert nasdaq index to datetime, reverse df\n",
    "nasdaq_df.index = pd.to_datetime(nasdaq_df.index)\n",
    "nasdaq_df = nasdaq_df.iloc[::-1]"
   ]
  },
  {
   "cell_type": "code",
   "execution_count": 9,
   "metadata": {},
   "outputs": [],
   "source": [
    "covid_dfs = cut_df(covid_df, 'iso_code', countries)"
   ]
  },
  {
   "cell_type": "code",
   "execution_count": 10,
   "metadata": {},
   "outputs": [],
   "source": [
    "#problem: FRED data monthly, OWID data daily -> need to convert OWID data\n",
    "#add up cases of a month, save in a list\n",
    "list_results = []\n",
    "for j in range(len(covid_dfs)):\n",
    "    list_monthly_cases = []\n",
    "    list_monthly_cases_index = []\n",
    "    monthly_cases = covid_dfs[j].iloc[0]['new_cases']\n",
    "    for i in range(len(covid_dfs[j])-1):\n",
    "        if covid_dfs[j].index[i].month == covid_dfs[j].index[i+1].month:\n",
    "            monthly_cases = monthly_cases + covid_dfs[j].iloc[i+1]['new_cases']\n",
    "        else:\n",
    "            list_monthly_cases.append(monthly_cases)\n",
    "            list_monthly_cases_index.append(covid_dfs[j].index[i+1])\n",
    "            monthly_cases = covid_dfs[j].iloc[i+1]['new_cases']\n",
    "    #safe list of monthly cases as df, concat with df on CZK/USD data\n",
    "    monthly_cases_summed = pd.DataFrame(data = list_monthly_cases, index = list_monthly_cases_index)\n",
    "    if j == 0:\n",
    "        monthly_cases_summed_df = monthly_cases_summed\n",
    "    else:\n",
    "        monthly_cases_summed_df[j] = monthly_cases_summed\n",
    "monthly_cases_summed_df.columns = countries    "
   ]
  },
  {
   "cell_type": "code",
   "execution_count": 11,
   "metadata": {},
   "outputs": [],
   "source": [
    "#safe dfs to parquet\n",
    "monthly_cases_summed_df.to_parquet('data/monthly_cases_summed.parquet')\n",
    "exchange_df.to_parquet('data/exchange.parquet')"
   ]
  },
  {
   "cell_type": "code",
   "execution_count": 2,
   "metadata": {},
   "outputs": [
    {
     "data": {
      "text/plain": [
       "\"\\ncan't save multiindex to parquet so I saved both dfs and combine them in data analyser\\n\\nresults = pd.concat([exchange_df, monthly_cases_summed_df], keys=['local currency to USD', 'summed monthly COVID cases'], axis='columns')\\n\""
      ]
     },
     "execution_count": 2,
     "metadata": {},
     "output_type": "execute_result"
    }
   ],
   "source": [
    "#combine dfs with multiindex\n",
    "'''\n",
    "can't save multiindex to parquet so I saved both dfs and combine them in data analyser\n",
    "\n",
    "results = pd.concat([exchange_df, monthly_cases_summed_df], keys=['local currency to USD', 'summed monthly COVID cases'], axis='columns')\n",
    "'''"
   ]
  },
  {
   "cell_type": "code",
   "execution_count": 10,
   "metadata": {},
   "outputs": [
    {
     "data": {
      "text/plain": [
       "\"\\n#control if idea works -> it does\\nprint(list_monthly_cases)\\nprint(covid_df.loc['2020-04-30']['total_cases']-covid_df.loc['2020-03-31']['total_cases'])\\ncovid_df.loc['2020-03-31']['total_cases']\\n\""
      ]
     },
     "execution_count": 10,
     "metadata": {},
     "output_type": "execute_result"
    }
   ],
   "source": [
    "'''\n",
    "#control if idea works -> it does\n",
    "print(list_monthly_cases)\n",
    "print(covid_df.loc['2020-04-30']['total_cases']-covid_df.loc['2020-03-31']['total_cases'])\n",
    "covid_df.loc['2020-03-31']['total_cases']\n",
    "'''"
   ]
  },
  {
   "cell_type": "code",
   "execution_count": 1,
   "metadata": {},
   "outputs": [],
   "source": [
    "#results.to_parquet('data/merged_data.parquet')"
   ]
  }
 ],
 "metadata": {
  "kernelspec": {
   "display_name": "Python 3",
   "language": "python",
   "name": "python3"
  },
  "language_info": {
   "codemirror_mode": {
    "name": "ipython",
    "version": 3
   },
   "file_extension": ".py",
   "mimetype": "text/x-python",
   "name": "python",
   "nbconvert_exporter": "python",
   "pygments_lexer": "ipython3",
   "version": "3.8.5"
  }
 },
 "nbformat": 4,
 "nbformat_minor": 4
}
