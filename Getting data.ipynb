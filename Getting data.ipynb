{
 "cells": [
  {
   "cell_type": "code",
   "execution_count": 1,
   "metadata": {},
   "outputs": [],
   "source": [
    "#notes, links, etc.\n",
    "\n",
    "#FRED data: \n",
    "#dataset: https://fred.stlouisfed.org/series/CCUSMA02CZM618N#\n",
    "#link structure API: https://api.stlouisfed.org/fred/series?series_id=GNPCA&api_key=abcdefghijklmnopqrstuvwxyz123456&file_type=json\n",
    "key = '290c57887172f5dd570f2f3e19b006dd'\n",
    "series_ID = 'CCUSMA02CZM618N'\n",
    "\n",
    "#COVID-Data\n",
    "covid_url = 'https://covid.ourworldindata.org/data/owid-covid-data.csv'\n",
    "\n",
    "#GDP Data\n",
    "gdp_url = 'https://tradingeconomics.com/czech-republic/gdp-constant-prices'"
   ]
  },
  {
   "cell_type": "code",
   "execution_count": 2,
   "metadata": {},
   "outputs": [],
   "source": [
    "#import packages\n",
    "import requests\n",
    "import pandas as pd"
   ]
  },
  {
   "cell_type": "code",
   "execution_count": 3,
   "metadata": {},
   "outputs": [],
   "source": [
    "#Requests class: initialized with url to get data from and request type (kind)\n",
    "\n",
    "class Req:\n",
    "    def __init__(self, url, kind, data = None):\n",
    "        self.url = url\n",
    "        self.kind = kind\n",
    "        \n",
    "#class method to request data from url depending on type of requests (API, Direct Download, ...)\n",
    "#note API request yet specifically written for FRED request -> should be more general\n",
    "        \n",
    "    def request_data(self, index):\n",
    "        if self.kind == 'DirectDl':\n",
    "            self.data = pd.read_csv(self.url).set_index(index)\n",
    "        elif self.kind == 'API':\n",
    "            self.data = pd.DataFrame(requests.get(self.url).json()['observations']).set_index([index]).drop(['realtime_start', 'realtime_end'], axis=1)\n",
    "        else:\n",
    "            print('Request-type not eglible.')\n",
    "        pass"
   ]
  },
  {
   "cell_type": "code",
   "execution_count": 4,
   "metadata": {},
   "outputs": [],
   "source": [
    "#create instances of Req for FRED and OWID request\n",
    "FRED_Req = Req('https://api.stlouisfed.org/fred/series/observations?series_id=CCUSMA02CZM618N&api_key=290c57887172f5dd570f2f3e19b006dd&file_type=json', 'API')\n",
    "OWID_Req = Req('https://covid.ourworldindata.org/data/owid-covid-data.csv', 'DirectDl')"
   ]
  },
  {
   "cell_type": "code",
   "execution_count": 5,
   "metadata": {},
   "outputs": [],
   "source": [
    "#request data from FRED + OWID, save as df + covid_df\n",
    "OWID_Req.request_data('date')\n",
    "FRED_Req.request_data('date')\n",
    "\n",
    "czk_df = FRED_Req.data\n",
    "covid_df = OWID_Req.data"
   ]
  },
  {
   "cell_type": "code",
   "execution_count": 11,
   "metadata": {},
   "outputs": [
    {
     "name": "stdout",
     "output_type": "stream",
     "text": [
      "                       value\n",
      "date                        \n",
      "1991-01-01  27.6468180736364\n",
      "1991-02-01     27.2440000535\n",
      "1991-03-01  28.7399998619048\n",
      "1991-04-01  29.9433334904762\n",
      "1991-05-01  30.1157142085714\n",
      "...                      ...\n",
      "2020-12-01  21.6299130434783\n",
      "2021-01-01  21.4747142857143\n",
      "2021-02-01           21.3881\n",
      "2021-03-01  22.0020434782609\n",
      "2021-04-01  21.6945909090909\n",
      "\n",
      "[364 rows x 1 columns]\n"
     ]
    }
   ],
   "source": [
    "print(czk_df)\n",
    "czk_df.to_parquet('FRED_Req.parquet')"
   ]
  },
  {
   "cell_type": "code",
   "execution_count": 12,
   "metadata": {},
   "outputs": [
    {
     "name": "stdout",
     "output_type": "stream",
     "text": [
      "           iso_code continent     location  total_cases  new_cases  \\\n",
      "date                                                                 \n",
      "2020-02-24      AFG      Asia  Afghanistan          1.0        1.0   \n",
      "2020-02-25      AFG      Asia  Afghanistan          1.0        0.0   \n",
      "2020-02-26      AFG      Asia  Afghanistan          1.0        0.0   \n",
      "2020-02-27      AFG      Asia  Afghanistan          1.0        0.0   \n",
      "2020-02-28      AFG      Asia  Afghanistan          1.0        0.0   \n",
      "...             ...       ...          ...          ...        ...   \n",
      "2021-05-19      ZWE    Africa     Zimbabwe      38612.0       17.0   \n",
      "2021-05-20      ZWE    Africa     Zimbabwe      38635.0       23.0   \n",
      "2021-05-21      ZWE    Africa     Zimbabwe      38664.0       29.0   \n",
      "2021-05-22      ZWE    Africa     Zimbabwe      38679.0       15.0   \n",
      "2021-05-23      ZWE    Africa     Zimbabwe      38682.0        3.0   \n",
      "\n",
      "            new_cases_smoothed  total_deaths  new_deaths  new_deaths_smoothed  \\\n",
      "date                                                                            \n",
      "2020-02-24                 NaN           NaN         NaN                  NaN   \n",
      "2020-02-25                 NaN           NaN         NaN                  NaN   \n",
      "2020-02-26                 NaN           NaN         NaN                  NaN   \n",
      "2020-02-27                 NaN           NaN         NaN                  NaN   \n",
      "2020-02-28                 NaN           NaN         NaN                  NaN   \n",
      "...                        ...           ...         ...                  ...   \n",
      "2021-05-19              20.857        1583.0         0.0                0.571   \n",
      "2021-05-20              20.571        1585.0         2.0                0.429   \n",
      "2021-05-21              18.429        1586.0         1.0                0.571   \n",
      "2021-05-22              17.857        1586.0         0.0                0.571   \n",
      "2021-05-23              17.429        1586.0         0.0                0.571   \n",
      "\n",
      "            total_cases_per_million  ...  gdp_per_capita  extreme_poverty  \\\n",
      "date                                 ...                                    \n",
      "2020-02-24                    0.026  ...        1803.987              NaN   \n",
      "2020-02-25                    0.026  ...        1803.987              NaN   \n",
      "2020-02-26                    0.026  ...        1803.987              NaN   \n",
      "2020-02-27                    0.026  ...        1803.987              NaN   \n",
      "2020-02-28                    0.026  ...        1803.987              NaN   \n",
      "...                             ...  ...             ...              ...   \n",
      "2021-05-19                 2597.873  ...        1899.775             21.4   \n",
      "2021-05-20                 2599.421  ...        1899.775             21.4   \n",
      "2021-05-21                 2601.372  ...        1899.775             21.4   \n",
      "2021-05-22                 2602.381  ...        1899.775             21.4   \n",
      "2021-05-23                 2602.583  ...        1899.775             21.4   \n",
      "\n",
      "            cardiovasc_death_rate  diabetes_prevalence  female_smokers  \\\n",
      "date                                                                     \n",
      "2020-02-24                597.029                 9.59             NaN   \n",
      "2020-02-25                597.029                 9.59             NaN   \n",
      "2020-02-26                597.029                 9.59             NaN   \n",
      "2020-02-27                597.029                 9.59             NaN   \n",
      "2020-02-28                597.029                 9.59             NaN   \n",
      "...                           ...                  ...             ...   \n",
      "2021-05-19                307.846                 1.82             1.6   \n",
      "2021-05-20                307.846                 1.82             1.6   \n",
      "2021-05-21                307.846                 1.82             1.6   \n",
      "2021-05-22                307.846                 1.82             1.6   \n",
      "2021-05-23                307.846                 1.82             1.6   \n",
      "\n",
      "            male_smokers  handwashing_facilities  hospital_beds_per_thousand  \\\n",
      "date                                                                           \n",
      "2020-02-24           NaN                  37.746                         0.5   \n",
      "2020-02-25           NaN                  37.746                         0.5   \n",
      "2020-02-26           NaN                  37.746                         0.5   \n",
      "2020-02-27           NaN                  37.746                         0.5   \n",
      "2020-02-28           NaN                  37.746                         0.5   \n",
      "...                  ...                     ...                         ...   \n",
      "2021-05-19          30.7                  36.791                         1.7   \n",
      "2021-05-20          30.7                  36.791                         1.7   \n",
      "2021-05-21          30.7                  36.791                         1.7   \n",
      "2021-05-22          30.7                  36.791                         1.7   \n",
      "2021-05-23          30.7                  36.791                         1.7   \n",
      "\n",
      "            life_expectancy  human_development_index  \n",
      "date                                                  \n",
      "2020-02-24            64.83                    0.511  \n",
      "2020-02-25            64.83                    0.511  \n",
      "2020-02-26            64.83                    0.511  \n",
      "2020-02-27            64.83                    0.511  \n",
      "2020-02-28            64.83                    0.511  \n",
      "...                     ...                      ...  \n",
      "2021-05-19            61.49                    0.571  \n",
      "2021-05-20            61.49                    0.571  \n",
      "2021-05-21            61.49                    0.571  \n",
      "2021-05-22            61.49                    0.571  \n",
      "2021-05-23            61.49                    0.571  \n",
      "\n",
      "[90732 rows x 58 columns]\n"
     ]
    }
   ],
   "source": [
    "print(covid_df)\n",
    "covid_df.to_parquet('OWID_Req.parquet')"
   ]
  },
  {
   "cell_type": "code",
   "execution_count": null,
   "metadata": {},
   "outputs": [],
   "source": []
  }
 ],
 "metadata": {
  "kernelspec": {
   "display_name": "Python 3",
   "language": "python",
   "name": "python3"
  },
  "language_info": {
   "codemirror_mode": {
    "name": "ipython",
    "version": 3
   },
   "file_extension": ".py",
   "mimetype": "text/x-python",
   "name": "python",
   "nbconvert_exporter": "python",
   "pygments_lexer": "ipython3",
   "version": "3.8.5"
  }
 },
 "nbformat": 4,
 "nbformat_minor": 4
}
