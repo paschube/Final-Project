{
 "cells": [
  {
   "cell_type": "code",
   "execution_count": 27,
   "metadata": {},
   "outputs": [],
   "source": [
    "import pandas as pd\n",
    "import numpy as np\n",
    "import matplotlib.pyplot as plt\n",
    "import altair as alt\n",
    "from scipy import stats"
   ]
  },
  {
   "cell_type": "code",
   "execution_count": 17,
   "metadata": {},
   "outputs": [
    {
     "data": {
      "text/html": [
       "<div>\n",
       "<style scoped>\n",
       "    .dataframe tbody tr th:only-of-type {\n",
       "        vertical-align: middle;\n",
       "    }\n",
       "\n",
       "    .dataframe tbody tr th {\n",
       "        vertical-align: top;\n",
       "    }\n",
       "\n",
       "    .dataframe thead tr th {\n",
       "        text-align: left;\n",
       "    }\n",
       "</style>\n",
       "<table border=\"1\" class=\"dataframe\">\n",
       "  <thead>\n",
       "    <tr>\n",
       "      <th></th>\n",
       "      <th colspan=\"3\" halign=\"left\">USD</th>\n",
       "      <th colspan=\"3\" halign=\"left\">COVID</th>\n",
       "    </tr>\n",
       "    <tr>\n",
       "      <th></th>\n",
       "      <th>CZ/USD</th>\n",
       "      <th>PL/USD</th>\n",
       "      <th>HU/USD</th>\n",
       "      <th>CZE</th>\n",
       "      <th>POL</th>\n",
       "      <th>HUN</th>\n",
       "    </tr>\n",
       "  </thead>\n",
       "  <tbody>\n",
       "    <tr>\n",
       "      <th>2020-03-01</th>\n",
       "      <td>24.042864</td>\n",
       "      <td>4.013614</td>\n",
       "      <td>312.114545</td>\n",
       "      <td>NaN</td>\n",
       "      <td>NaN</td>\n",
       "      <td>NaN</td>\n",
       "    </tr>\n",
       "    <tr>\n",
       "      <th>2020-04-01</th>\n",
       "      <td>25.069682</td>\n",
       "      <td>4.180518</td>\n",
       "      <td>327.990455</td>\n",
       "      <td>3308.0</td>\n",
       "      <td>2311.0</td>\n",
       "      <td>NaN</td>\n",
       "    </tr>\n",
       "    <tr>\n",
       "      <th>2020-05-01</th>\n",
       "      <td>25.012381</td>\n",
       "      <td>4.160552</td>\n",
       "      <td>322.363810</td>\n",
       "      <td>4374.0</td>\n",
       "      <td>10566.0</td>\n",
       "      <td>2283.0</td>\n",
       "    </tr>\n",
       "    <tr>\n",
       "      <th>2020-06-01</th>\n",
       "      <td>23.706455</td>\n",
       "      <td>3.944050</td>\n",
       "      <td>308.675000</td>\n",
       "      <td>1586.0</td>\n",
       "      <td>10909.0</td>\n",
       "      <td>1101.0</td>\n",
       "    </tr>\n",
       "    <tr>\n",
       "      <th>2020-07-01</th>\n",
       "      <td>23.145000</td>\n",
       "      <td>3.886200</td>\n",
       "      <td>306.563913</td>\n",
       "      <td>2686.0</td>\n",
       "      <td>10607.0</td>\n",
       "      <td>279.0</td>\n",
       "    </tr>\n",
       "    <tr>\n",
       "      <th>2020-08-01</th>\n",
       "      <td>22.122381</td>\n",
       "      <td>3.720010</td>\n",
       "      <td>294.615714</td>\n",
       "      <td>4620.0</td>\n",
       "      <td>11295.0</td>\n",
       "      <td>350.0</td>\n",
       "    </tr>\n",
       "    <tr>\n",
       "      <th>2020-09-01</th>\n",
       "      <td>22.679909</td>\n",
       "      <td>3.792868</td>\n",
       "      <td>305.629091</td>\n",
       "      <td>8044.0</td>\n",
       "      <td>21684.0</td>\n",
       "      <td>1634.0</td>\n",
       "    </tr>\n",
       "    <tr>\n",
       "      <th>2020-10-01</th>\n",
       "      <td>23.098409</td>\n",
       "      <td>3.860714</td>\n",
       "      <td>308.284545</td>\n",
       "      <td>46145.0</td>\n",
       "      <td>24142.0</td>\n",
       "      <td>20322.0</td>\n",
       "    </tr>\n",
       "    <tr>\n",
       "      <th>2020-11-01</th>\n",
       "      <td>22.357048</td>\n",
       "      <td>3.802343</td>\n",
       "      <td>304.241905</td>\n",
       "      <td>264339.0</td>\n",
       "      <td>271217.0</td>\n",
       "      <td>48860.0</td>\n",
       "    </tr>\n",
       "    <tr>\n",
       "      <th>2020-12-01</th>\n",
       "      <td>21.629913</td>\n",
       "      <td>3.681413</td>\n",
       "      <td>295.239130</td>\n",
       "      <td>188196.0</td>\n",
       "      <td>628080.0</td>\n",
       "      <td>141801.0</td>\n",
       "    </tr>\n",
       "    <tr>\n",
       "      <th>2021-01-01</th>\n",
       "      <td>21.474714</td>\n",
       "      <td>3.728767</td>\n",
       "      <td>295.048571</td>\n",
       "      <td>195363.0</td>\n",
       "      <td>304067.0</td>\n",
       "      <td>105392.0</td>\n",
       "    </tr>\n",
       "    <tr>\n",
       "      <th>2021-02-01</th>\n",
       "      <td>21.388100</td>\n",
       "      <td>3.717550</td>\n",
       "      <td>296.046000</td>\n",
       "      <td>266113.0</td>\n",
       "      <td>218507.0</td>\n",
       "      <td>45072.0</td>\n",
       "    </tr>\n",
       "    <tr>\n",
       "      <th>2021-03-01</th>\n",
       "      <td>22.002043</td>\n",
       "      <td>3.863939</td>\n",
       "      <td>307.230870</td>\n",
       "      <td>250706.0</td>\n",
       "      <td>193601.0</td>\n",
       "      <td>61013.0</td>\n",
       "    </tr>\n",
       "    <tr>\n",
       "      <th>2021-04-01</th>\n",
       "      <td>21.694591</td>\n",
       "      <td>3.819532</td>\n",
       "      <td>301.943182</td>\n",
       "      <td>296852.0</td>\n",
       "      <td>614731.0</td>\n",
       "      <td>223834.0</td>\n",
       "    </tr>\n",
       "    <tr>\n",
       "      <th>2021-05-01</th>\n",
       "      <td>21.043619</td>\n",
       "      <td>3.728548</td>\n",
       "      <td>291.395714</td>\n",
       "      <td>98426.0</td>\n",
       "      <td>470425.0</td>\n",
       "      <td>126915.0</td>\n",
       "    </tr>\n",
       "    <tr>\n",
       "      <th>2021-06-01</th>\n",
       "      <td>21.131500</td>\n",
       "      <td>3.736268</td>\n",
       "      <td>290.269545</td>\n",
       "      <td>30514.0</td>\n",
       "      <td>80141.0</td>\n",
       "      <td>25190.0</td>\n",
       "    </tr>\n",
       "    <tr>\n",
       "      <th>2021-07-01</th>\n",
       "      <td>NaN</td>\n",
       "      <td>NaN</td>\n",
       "      <td>NaN</td>\n",
       "      <td>6015.0</td>\n",
       "      <td>7629.0</td>\n",
       "      <td>3590.0</td>\n",
       "    </tr>\n",
       "    <tr>\n",
       "      <th>2021-08-01</th>\n",
       "      <td>NaN</td>\n",
       "      <td>NaN</td>\n",
       "      <td>NaN</td>\n",
       "      <td>6289.0</td>\n",
       "      <td>3027.0</td>\n",
       "      <td>1363.0</td>\n",
       "    </tr>\n",
       "  </tbody>\n",
       "</table>\n",
       "</div>"
      ],
      "text/plain": [
       "                  USD                           COVID                    \n",
       "               CZ/USD    PL/USD      HU/USD       CZE       POL       HUN\n",
       "2020-03-01  24.042864  4.013614  312.114545       NaN       NaN       NaN\n",
       "2020-04-01  25.069682  4.180518  327.990455    3308.0    2311.0       NaN\n",
       "2020-05-01  25.012381  4.160552  322.363810    4374.0   10566.0    2283.0\n",
       "2020-06-01  23.706455  3.944050  308.675000    1586.0   10909.0    1101.0\n",
       "2020-07-01  23.145000  3.886200  306.563913    2686.0   10607.0     279.0\n",
       "2020-08-01  22.122381  3.720010  294.615714    4620.0   11295.0     350.0\n",
       "2020-09-01  22.679909  3.792868  305.629091    8044.0   21684.0    1634.0\n",
       "2020-10-01  23.098409  3.860714  308.284545   46145.0   24142.0   20322.0\n",
       "2020-11-01  22.357048  3.802343  304.241905  264339.0  271217.0   48860.0\n",
       "2020-12-01  21.629913  3.681413  295.239130  188196.0  628080.0  141801.0\n",
       "2021-01-01  21.474714  3.728767  295.048571  195363.0  304067.0  105392.0\n",
       "2021-02-01  21.388100  3.717550  296.046000  266113.0  218507.0   45072.0\n",
       "2021-03-01  22.002043  3.863939  307.230870  250706.0  193601.0   61013.0\n",
       "2021-04-01  21.694591  3.819532  301.943182  296852.0  614731.0  223834.0\n",
       "2021-05-01  21.043619  3.728548  291.395714   98426.0  470425.0  126915.0\n",
       "2021-06-01  21.131500  3.736268  290.269545   30514.0   80141.0   25190.0\n",
       "2021-07-01        NaN       NaN         NaN    6015.0    7629.0    3590.0\n",
       "2021-08-01        NaN       NaN         NaN    6289.0    3027.0    1363.0"
      ]
     },
     "execution_count": 17,
     "metadata": {},
     "output_type": "execute_result"
    }
   ],
   "source": [
    "#read parquets\n",
    "monthly_cases_summed_df = pd.read_parquet('data/monthly_cases_summed.parquet')\n",
    "exchange_df = pd.read_parquet('data/exchange.parquet')\n",
    "\n",
    "#combine dfs with multiindex\n",
    "our_data = pd.concat([exchange_df, monthly_cases_summed_df], keys=['USD', 'COVID'], axis='columns')\n",
    "our_data"
   ]
  },
  {
   "cell_type": "code",
   "execution_count": 8,
   "metadata": {},
   "outputs": [
    {
     "data": {
      "text/plain": [
       "<matplotlib.collections.PathCollection at 0x7ff7984afb80>"
      ]
     },
     "execution_count": 8,
     "metadata": {},
     "output_type": "execute_result"
    },
    {
     "data": {
      "image/png": "[encoded data removed]",
      "text/plain": [
       "<Figure size 432x288 with 1 Axes>"
      ]
     },
     "metadata": {
      "needs_background": "light"
     },
     "output_type": "display_data"
    }
   ],
   "source": [
    "plt.scatter(our_data['summed monthly COVID cases']['CZE'], our_data['local currency to USD']['CZ/USD'])"
   ]
  },
  {
   "cell_type": "code",
   "execution_count": 11,
   "metadata": {},
   "outputs": [],
   "source": [
    "#plt.scatter(our_data['summed monthly COVID cases']['POL'], our_data['local currency to USD']['PL/USD'])"
   ]
  },
  {
   "cell_type": "code",
   "execution_count": 12,
   "metadata": {},
   "outputs": [],
   "source": [
    "#plt.scatter(our_data['summed monthly COVID cases']['HUN'], our_data['local currency to USD']['HU/USD'])"
   ]
  },
  {
   "cell_type": "code",
   "execution_count": 29,
   "metadata": {},
   "outputs": [
    {
     "ename": "NameError",
     "evalue": "name 'info' is not defined",
     "output_type": "error",
     "traceback": [
      "\u001b[0;31m---------------------------------------------------------------------------\u001b[0m",
      "\u001b[0;31mNameError\u001b[0m                                 Traceback (most recent call last)",
      "\u001b[0;32m<ipython-input-29-e3460fcce54e>\u001b[0m in \u001b[0;36m<module>\u001b[0;34m\u001b[0m\n\u001b[1;32m      1\u001b[0m \u001b[0;31m#spearmanr(our_data['COVID']['CZE'],our_data['USD']['CZ/USD'])\u001b[0m\u001b[0;34m\u001b[0m\u001b[0;34m\u001b[0m\u001b[0;34m\u001b[0m\u001b[0m\n\u001b[0;32m----> 2\u001b[0;31m \u001b[0minfo\u001b[0m\u001b[0;34m(\u001b[0m\u001b[0mstats\u001b[0m\u001b[0;34m)\u001b[0m\u001b[0;34m\u001b[0m\u001b[0;34m\u001b[0m\u001b[0m\n\u001b[0m",
      "\u001b[0;31mNameError\u001b[0m: name 'info' is not defined"
     ]
    }
   ],
   "source": [
    "#spearmanr(our_data['COVID']['CZE'],our_data['USD']['CZ/USD'])"
   ]
  },
  {
   "cell_type": "code",
   "execution_count": 21,
   "metadata": {},
   "outputs": [
    {
     "data": {
      "text/html": [
       "\n",
       "<div id=\"altair-viz-9effddf6b61b4a22a8b17154965ea1c7\"></div>\n",
       "<script type=\"text/javascript\">\n",
       "  (function(spec, embedOpt){\n",
       "    let outputDiv = document.currentScript.previousElementSibling;\n",
       "    if (outputDiv.id !== \"altair-viz-9effddf6b61b4a22a8b17154965ea1c7\") {\n",
       "      outputDiv = document.getElementById(\"altair-viz-9effddf6b61b4a22a8b17154965ea1c7\");\n",
       "    }\n",
       "    const paths = {\n",
       "      \"vega\": \"https://cdn.jsdelivr.net/npm//vega@5?noext\",\n",
       "      \"vega-lib\": \"https://cdn.jsdelivr.net/npm//vega-lib?noext\",\n",
       "      \"vega-lite\": \"https://cdn.jsdelivr.net/npm//vega-lite@4.8.1?noext\",\n",
       "      \"vega-embed\": \"https://cdn.jsdelivr.net/npm//vega-embed@6?noext\",\n",
       "    };\n",
       "\n",
       "    function loadScript(lib) {\n",
       "      return new Promise(function(resolve, reject) {\n",
       "        var s = document.createElement('script');\n",
       "        s.src = paths[lib];\n",
       "        s.async = true;\n",
       "        s.onload = () => resolve(paths[lib]);\n",
       "        s.onerror = () => reject(`Error loading script: ${paths[lib]}`);\n",
       "        document.getElementsByTagName(\"head\")[0].appendChild(s);\n",
       "      });\n",
       "    }\n",
       "\n",
       "    function showError(err) {\n",
       "      outputDiv.innerHTML = `<div class=\"error\" style=\"color:red;\">${err}</div>`;\n",
       "      throw err;\n",
       "    }\n",
       "\n",
       "    function displayChart(vegaEmbed) {\n",
       "      vegaEmbed(outputDiv, spec, embedOpt)\n",
       "        .catch(err => showError(`Javascript Error: ${err.message}<br>This usually means there's a typo in your chart specification. See the javascript console for the full traceback.`));\n",
       "    }\n",
       "\n",
       "    if(typeof define === \"function\" && define.amd) {\n",
       "      requirejs.config({paths});\n",
       "      require([\"vega-embed\"], displayChart, err => showError(`Error loading script: ${err.message}`));\n",
       "    } else if (typeof vegaEmbed === \"function\") {\n",
       "      displayChart(vegaEmbed);\n",
       "    } else {\n",
       "      loadScript(\"vega\")\n",
       "        .then(() => loadScript(\"vega-lite\"))\n",
       "        .then(() => loadScript(\"vega-embed\"))\n",
       "        .catch(showError)\n",
       "        .then(() => displayChart(vegaEmbed));\n",
       "    }\n",
       "  })({\"config\": {\"view\": {\"continuousWidth\": 400, \"continuousHeight\": 300}}, \"data\": {\"name\": \"data-cd0b17a2af8f5c413636115bc4e97a62\"}, \"mark\": \"point\", \"encoding\": {\"y\": {\"type\": \"quantitative\", \"field\": \"PL/USD\"}}, \"$schema\": \"https://vega.github.io/schema/vega-lite/v4.8.1.json\", \"datasets\": {\"data-cd0b17a2af8f5c413636115bc4e97a62\": [{\"CZ/USD\": 24.0428636363636, \"PL/USD\": 4.01361363636364, \"HU/USD\": 312.114545454545}, {\"CZ/USD\": 25.0696818181818, \"PL/USD\": 4.18051818181818, \"HU/USD\": 327.990454545455}, {\"CZ/USD\": 25.012380952381, \"PL/USD\": 4.16055238095238, \"HU/USD\": 322.36380952381}, {\"CZ/USD\": 23.7064545454545, \"PL/USD\": 3.94405, \"HU/USD\": 308.675}, {\"CZ/USD\": 23.145, \"PL/USD\": 3.8862, \"HU/USD\": 306.563913043478}, {\"CZ/USD\": 22.122380952381, \"PL/USD\": 3.72000952380952, \"HU/USD\": 294.615714285714}, {\"CZ/USD\": 22.6799090909091, \"PL/USD\": 3.79286818181818, \"HU/USD\": 305.629090909091}, {\"CZ/USD\": 23.0984090909091, \"PL/USD\": 3.86071363636364, \"HU/USD\": 308.284545454545}, {\"CZ/USD\": 22.3570476190476, \"PL/USD\": 3.80234285714286, \"HU/USD\": 304.241904761905}, {\"CZ/USD\": 21.6299130434783, \"PL/USD\": 3.68141304347826, \"HU/USD\": 295.239130434783}, {\"CZ/USD\": 21.4747142857143, \"PL/USD\": 3.72876666666667, \"HU/USD\": 295.048571428571}, {\"CZ/USD\": 21.3881, \"PL/USD\": 3.71755, \"HU/USD\": 296.046}, {\"CZ/USD\": 22.0020434782609, \"PL/USD\": 3.86393913043478, \"HU/USD\": 307.230869565217}, {\"CZ/USD\": 21.6945909090909, \"PL/USD\": 3.81953181818182, \"HU/USD\": 301.943181818182}, {\"CZ/USD\": 21.043619047619, \"PL/USD\": 3.72854761904762, \"HU/USD\": 291.395714285714}, {\"CZ/USD\": 21.1315, \"PL/USD\": 3.73626818181818, \"HU/USD\": 290.269545454545}, {\"CZ/USD\": null, \"PL/USD\": null, \"HU/USD\": null}, {\"CZ/USD\": null, \"PL/USD\": null, \"HU/USD\": null}]}}, {\"mode\": \"vega-lite\"});\n",
       "</script>"
      ],
      "text/plain": [
       "alt.Chart(...)"
      ]
     },
     "execution_count": 21,
     "metadata": {},
     "output_type": "execute_result"
    }
   ],
   "source": [
    "chart = alt.Chart(our_data['USD']).mark_point().encode(y='PL/USD')\n",
    "chart"
   ]
  },
  {
   "cell_type": "code",
   "execution_count": 2,
   "metadata": {},
   "outputs": [],
   "source": [
    "#our_data = pd.read_parquet('data/merged_data.parquet')"
   ]
  },
  {
   "cell_type": "code",
   "execution_count": 4,
   "metadata": {},
   "outputs": [],
   "source": [
    "#functions to plot data\n",
    "#get x axes\n",
    "def get_x_axes(data):\n",
    "    x = data.index\n",
    "    return x\n",
    "\n",
    "#get y axes\n",
    "def get_y_axes(data, column):\n",
    "    y = data[f'{column}']\n",
    "    return y\n",
    "\n",
    "#plot data\n",
    "def plot_data(data, y, xticks, ylabel):\n",
    "    x = get_x_axes(data)\n",
    "    plt.plot(x, get_y_axes(data, y))# Plot some data on the axes.\n",
    "    plt.xticks(x[::xticks])\n",
    "    plt.xlabel('Date')  # Add an x-label to the axes.\n",
    "    plt.ylabel(f'{ylabel}')  # Add a y-label to the axes.\n",
    "    plt.title(f'Plotted data from {x[0]} until {x[-1]}')  # Add a title to the axes.\n",
    "    #plt.legend()  # Add a legend."
   ]
  },
  {
   "cell_type": "code",
   "execution_count": 16,
   "metadata": {},
   "outputs": [
    {
     "data": {
      "image/png": "[encoded data removed]",
      "text/plain": [
       "<Figure size 432x288 with 1 Axes>"
      ]
     },
     "metadata": {
      "needs_background": "light"
     },
     "output_type": "display_data"
    }
   ],
   "source": [
    "plot_data(our_data['local currency to USD'], 'CZ/USD', 3, 'CZK/USD')"
   ]
  },
  {
   "cell_type": "code",
   "execution_count": 17,
   "metadata": {},
   "outputs": [
    {
     "data": {
      "image/png": "[encoded data removed]",
      "text/plain": [
       "<Figure size 432x288 with 1 Axes>"
      ]
     },
     "metadata": {
      "needs_background": "light"
     },
     "output_type": "display_data"
    }
   ],
   "source": [
    "plot_data(our_data['summed monthly COVID cases'], 'CZE', 3, 'CZE')"
   ]
  },
  {
   "cell_type": "code",
   "execution_count": null,
   "metadata": {},
   "outputs": [],
   "source": []
  }
 ],
 "metadata": {
  "kernelspec": {
   "display_name": "Python 3",
   "language": "python",
   "name": "python3"
  },
  "language_info": {
   "codemirror_mode": {
    "name": "ipython",
    "version": 3
   },
   "file_extension": ".py",
   "mimetype": "text/x-python",
   "name": "python",
   "nbconvert_exporter": "python",
   "pygments_lexer": "ipython3",
   "version": "3.8.5"
  }
 },
 "nbformat": 4,
 "nbformat_minor": 4
}
